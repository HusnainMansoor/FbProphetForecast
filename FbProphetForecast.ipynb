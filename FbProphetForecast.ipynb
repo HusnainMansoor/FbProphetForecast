{
 "cells": [
  {
   "cell_type": "code",
   "execution_count": 1,
   "id": "3756d03e",
   "metadata": {},
   "outputs": [
    {
     "name": "stdout",
     "output_type": "stream",
     "text": [
      "Requirement already satisfied: yfinance in c:\\users\\husnainmansoor\\anaconda3\\lib\\site-packages (0.2.36)\n",
      "Requirement already satisfied: vaderSentiment in c:\\users\\husnainmansoor\\anaconda3\\lib\\site-packages (3.3.2)\n",
      "Requirement already satisfied: pandas in c:\\users\\husnainmansoor\\anaconda3\\lib\\site-packages (1.3.4)\n",
      "Requirement already satisfied: multitasking>=0.0.7 in c:\\users\\husnainmansoor\\anaconda3\\lib\\site-packages (from yfinance) (0.0.11)\n",
      "Requirement already satisfied: beautifulsoup4>=4.11.1 in c:\\users\\husnainmansoor\\anaconda3\\lib\\site-packages (from yfinance) (4.12.3)\n",
      "Requirement already satisfied: pytz>=2022.5 in c:\\users\\husnainmansoor\\anaconda3\\lib\\site-packages (from yfinance) (2024.1)\n",
      "Requirement already satisfied: html5lib>=1.1 in c:\\users\\husnainmansoor\\anaconda3\\lib\\site-packages (from yfinance) (1.1)\n",
      "Requirement already satisfied: appdirs>=1.4.4 in c:\\users\\husnainmansoor\\anaconda3\\lib\\site-packages (from yfinance) (1.4.4)\n",
      "Requirement already satisfied: lxml>=4.9.1 in c:\\users\\husnainmansoor\\anaconda3\\lib\\site-packages (from yfinance) (5.1.0)\n",
      "Requirement already satisfied: peewee>=3.16.2 in c:\\users\\husnainmansoor\\anaconda3\\lib\\site-packages (from yfinance) (3.17.1)\n",
      "Requirement already satisfied: numpy>=1.16.5 in c:\\users\\husnainmansoor\\anaconda3\\lib\\site-packages (from yfinance) (1.20.3)\n",
      "Requirement already satisfied: requests>=2.31 in c:\\users\\husnainmansoor\\anaconda3\\lib\\site-packages (from yfinance) (2.31.0)\n",
      "Requirement already satisfied: frozendict>=2.3.4 in c:\\users\\husnainmansoor\\anaconda3\\lib\\site-packages (from yfinance) (2.4.0)\n",
      "Requirement already satisfied: python-dateutil>=2.7.3 in c:\\users\\husnainmansoor\\anaconda3\\lib\\site-packages (from pandas) (2.8.2)\n",
      "Requirement already satisfied: soupsieve>1.2 in c:\\users\\husnainmansoor\\anaconda3\\lib\\site-packages (from beautifulsoup4>=4.11.1->yfinance) (2.2.1)\n",
      "Requirement already satisfied: webencodings in c:\\users\\husnainmansoor\\anaconda3\\lib\\site-packages (from html5lib>=1.1->yfinance) (0.5.1)\n",
      "Requirement already satisfied: six>=1.9 in c:\\users\\husnainmansoor\\anaconda3\\lib\\site-packages (from html5lib>=1.1->yfinance) (1.16.0)\n",
      "Requirement already satisfied: urllib3<3,>=1.21.1 in c:\\users\\husnainmansoor\\anaconda3\\lib\\site-packages (from requests>=2.31->yfinance) (1.26.7)\n",
      "Requirement already satisfied: certifi>=2017.4.17 in c:\\users\\husnainmansoor\\anaconda3\\lib\\site-packages (from requests>=2.31->yfinance) (2021.10.8)\n",
      "Requirement already satisfied: idna<4,>=2.5 in c:\\users\\husnainmansoor\\anaconda3\\lib\\site-packages (from requests>=2.31->yfinance) (3.2)\n",
      "Requirement already satisfied: charset-normalizer<4,>=2 in c:\\users\\husnainmansoor\\anaconda3\\lib\\site-packages (from requests>=2.31->yfinance) (2.0.4)\n"
     ]
    },
    {
     "name": "stderr",
     "output_type": "stream",
     "text": [
      "WARNING: Ignoring invalid distribution -tatsmodels (c:\\users\\husnainmansoor\\anaconda3\\lib\\site-packages)\n",
      "WARNING: Ignoring invalid distribution -tatsmodels (c:\\users\\husnainmansoor\\anaconda3\\lib\\site-packages)\n",
      "WARNING: Ignoring invalid distribution -tatsmodels (c:\\users\\husnainmansoor\\anaconda3\\lib\\site-packages)\n",
      "WARNING: Ignoring invalid distribution -tatsmodels (c:\\users\\husnainmansoor\\anaconda3\\lib\\site-packages)\n",
      "WARNING: Ignoring invalid distribution -tatsmodels (c:\\users\\husnainmansoor\\anaconda3\\lib\\site-packages)\n",
      "WARNING: Ignoring invalid distribution -tatsmodels (c:\\users\\husnainmansoor\\anaconda3\\lib\\site-packages)\n"
     ]
    }
   ],
   "source": [
    "!pip install yfinance vaderSentiment pandas"
   ]
  },
  {
   "cell_type": "code",
   "execution_count": 6,
   "id": "ec566477",
   "metadata": {},
   "outputs": [
    {
     "name": "stderr",
     "output_type": "stream",
     "text": [
      "[*********************100%%**********************]  50 of 50 completed\n"
     ]
    },
    {
     "name": "stdout",
     "output_type": "stream",
     "text": [
      "                META      TSLA      GOOG        VZ     CMCSA         T  \\\n",
      "ds                                                                       \n",
      "2019-04-30  0.070439 -0.128063 -0.018907 -0.016525  0.039969  0.002646   \n",
      "2019-05-31 -0.025270  0.088663  0.027973 -0.016974 -0.019472 -0.021632   \n",
      "2019-06-30  0.031193  0.310030 -0.008896  0.051969  0.013864  0.040252   \n",
      "2019-07-31  0.036177  0.254229  0.120924 -0.052762  0.044272 -0.044676   \n",
      "2019-08-31 -0.050944  0.035872 -0.004707  0.006466  0.029285 -0.008804   \n",
      "...              ...       ...       ...       ...       ...       ...   \n",
      "2025-01-31  0.037502 -0.007386  0.020973 -0.000799 -0.014566  0.052194   \n",
      "2025-02-28  0.039860 -0.098540 -0.014024 -0.037515 -0.048620 -0.059153   \n",
      "2025-03-31  0.057717 -0.150306  0.019435  0.011723 -0.030773 -0.017119   \n",
      "2025-04-30  0.083570 -0.045398  0.066783 -0.004389 -0.007269  0.021370   \n",
      "2025-05-31  0.068035 -0.180622  0.023805 -0.003088  0.016962 -0.002982   \n",
      "\n",
      "                CHTR      TMUS       DIS       NOK  ...       CVX       XOM  \\\n",
      "ds                                                  ...                       \n",
      "2019-04-30  0.020718  0.030259  0.064966 -0.067834  ... -0.035834  0.008806   \n",
      "2019-05-31  0.030701  0.021347 -0.068576  0.002846  ... -0.040127 -0.081574   \n",
      "2019-06-30  0.101703  0.030003  0.016003  0.018684  ...  0.003123  0.002238   \n",
      "2019-07-31  0.038588  0.057459  0.054146  0.078181  ...  0.034619 -0.012211   \n",
      "2019-08-31  0.082648 -0.009216 -0.015553 -0.012562  ... -0.033334 -0.035537   \n",
      "...              ...       ...       ...       ...  ...       ...       ...   \n",
      "2025-01-31 -0.084542 -0.075177 -0.072665  0.061872  ...  0.033135  0.139866   \n",
      "2025-02-28 -0.103731  0.027713  0.005682 -0.063803  ...  0.031257  0.033501   \n",
      "2025-03-31 -0.092569 -0.014311 -0.054132 -0.038739  ... -0.004430 -0.000458   \n",
      "2025-04-30 -0.048604  0.001931 -0.013137  0.041705  ...  0.070563  0.098246   \n",
      "2025-05-31  0.003415  0.035568 -0.035027  0.027556  ...  0.025373  0.031749   \n",
      "\n",
      "                 EOG       COP       DOW       FCX       KMI       PSX  \\\n",
      "ds                                                                       \n",
      "2019-04-30 -0.008920 -0.048638  0.044735 -0.056889 -0.020872 -0.047497   \n",
      "2019-05-31 -0.070411  0.003326 -0.072315 -0.066052 -0.017756 -0.076364   \n",
      "2019-06-30  0.019325 -0.027508  0.017604  0.120395 -0.003750 -0.006731   \n",
      "2019-07-31  0.019607  0.047661  0.047031  0.111632  0.024479  0.076683   \n",
      "2019-08-31 -0.061185 -0.034163 -0.048986 -0.083680 -0.032098 -0.048396   \n",
      "...              ...       ...       ...       ...       ...       ...   \n",
      "2025-01-31  0.092708  0.073430  0.020013  0.004578  0.074975  0.022570   \n",
      "2025-02-28  0.012899  0.024665  0.009150  0.035582 -0.010214  0.023763   \n",
      "2025-03-31 -0.028737 -0.034051 -0.039133 -0.031674 -0.000008 -0.018245   \n",
      "2025-04-30  0.111315  0.085631  0.058295  0.057126  0.038574  0.075812   \n",
      "2025-05-31  0.049097  0.051120  0.018749 -0.027052  0.054035  0.070430   \n",
      "\n",
      "                 MPC       APD  \n",
      "ds                              \n",
      "2019-04-30 -0.054013  0.039521  \n",
      "2019-05-31 -0.125613 -0.009069  \n",
      "2019-06-30  0.050230  0.115957  \n",
      "2019-07-31  0.051366  0.023015  \n",
      "2019-08-31 -0.006882  0.002010  \n",
      "...              ...       ...  \n",
      "2025-01-31  0.076928 -0.045696  \n",
      "2025-02-28  0.058171 -0.110326  \n",
      "2025-03-31 -0.032398  0.005964  \n",
      "2025-04-30  0.086080  0.008699  \n",
      "2025-05-31  0.064147  0.014459  \n",
      "\n",
      "[74 rows x 50 columns]\n"
     ]
    }
   ],
   "source": [
    "import pandas as pd\n",
    "import yfinance as yf\n",
    "from fbprophet import Prophet\n",
    "\n",
    "# List of tickers\n",
    "tickers = [\"META\", \"TSLA\", \"GOOG\", \"VZ\", \"CMCSA\", \"T\", \"CHTR\", \"TMUS\", \"DIS\", \"NOK\",\n",
    "           \"PLD\", \"AMT\", \"CCI\", \"SPG\", \"EQIX\", \"PSA\", \"O\", \"DLR\", \"AVB\", \"WELL\",\n",
    "           \"MSFT\", \"AAPL\", \"NVDA\", \"AMZN\", \"CRM\", \"IBM\", \"ADBE\", \"INTC\", \"CSCO\",\n",
    "           \"ORCL\", \"JPM\", \"V\", \"BAC\", \"MA\", \"PYPL\", \"BRK-B\", \"GS\", \"MS\", \"WFC\",\n",
    "           \"AXP\", \"CVX\", \"XOM\", \"EOG\", \"COP\", \"DOW\", \"FCX\", \"KMI\", \"PSX\", \"MPC\", \"APD\"]\n",
    "\n",
    "# Define start and end dates\n",
    "start_date = \"2018-01-01\"\n",
    "end_date = pd.Timestamp.today().strftime(\"%Y-%m-%d\")\n",
    "\n",
    "# Fetch historical data\n",
    "historical_data = yf.download(tickers, start=start_date, end=end_date)[\"Adj Close\"]\n",
    "# Calculate monthly returns\n",
    "monthly_returns = historical_data.resample(\"M\").last().pct_change().dropna()\n",
    "\n",
    "# Forecast monthly returns for each stock\n",
    "forecasted_returns = []\n",
    "for ticker in tickers:\n",
    "    if ticker in monthly_returns.columns:\n",
    "        stock_returns = monthly_returns[ticker].reset_index()\n",
    "        stock_returns.columns = [\"ds\", \"y\"]\n",
    "\n",
    "        model = Prophet(yearly_seasonality=True, weekly_seasonality=False, daily_seasonality=False)\n",
    "        model.fit(stock_returns)\n",
    "\n",
    "        future = model.make_future_dataframe(periods=12, freq=\"M\")\n",
    "        forecast = model.predict(future)\n",
    "\n",
    "        forecasted_returns.append((ticker, forecast[[\"ds\", \"yhat\"]].set_index(\"ds\").rename(columns={\"yhat\": ticker})))\n",
    "\n",
    "# Combine forecasted returns into a single DataFrame\n",
    "forecasted_returns_df = pd.concat([df for _, df in forecasted_returns], axis=1)\n",
    "print(forecasted_returns_df)"
   ]
  },
  {
   "cell_type": "code",
   "execution_count": 8,
   "id": "0167c798",
   "metadata": {},
   "outputs": [
    {
     "name": "stdout",
     "output_type": "stream",
     "text": [
      "Forecasted monthly returns exported to C:\\Users\\HusnainMansoor\\Documents\\forecastedvalues\\forecasted_monthly_returns.csv\n"
     ]
    }
   ],
   "source": [
    "import os\n",
    "\n",
    "# Combine forecasted returns into a single DataFrame\n",
    "forecasted_returns_df = pd.concat([df for _, df in forecasted_returns], axis=1)\n",
    "\n",
    "# Define the output directory and filename\n",
    "output_dir = r\"C:\\Users\\HusnainMansoor\\Documents\\forecastedvalues\"\n",
    "csv_filename = \"forecasted_monthly_returns.csv\"\n",
    "\n",
    "# Create the output directory if it doesn't exist\n",
    "os.makedirs(output_dir, exist_ok=True)\n",
    "\n",
    "# Construct the full file path\n",
    "output_file_path = os.path.join(output_dir, csv_filename)\n",
    "\n",
    "# Export forecasted returns to a CSV file\n",
    "forecasted_returns_df.to_csv(output_file_path)\n",
    "\n",
    "print(f\"Forecasted monthly returns exported to {output_file_path}\")"
   ]
  }
 ],
 "metadata": {
  "kernelspec": {
   "display_name": "Python 3 (ipykernel)",
   "language": "python",
   "name": "python3"
  },
  "language_info": {
   "codemirror_mode": {
    "name": "ipython",
    "version": 3
   },
   "file_extension": ".py",
   "mimetype": "text/x-python",
   "name": "python",
   "nbconvert_exporter": "python",
   "pygments_lexer": "ipython3",
   "version": "3.9.7"
  }
 },
 "nbformat": 4,
 "nbformat_minor": 5
}
